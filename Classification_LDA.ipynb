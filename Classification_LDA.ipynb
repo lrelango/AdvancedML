{
 "cells": [
  {
   "cell_type": "code",
   "execution_count": 1,
   "id": "6408533c",
   "metadata": {},
   "outputs": [],
   "source": [
    "import pandas as pd"
   ]
  },
  {
   "cell_type": "code",
   "execution_count": 2,
   "id": "23180cd7",
   "metadata": {},
   "outputs": [],
   "source": [
    "dataset=pd.read_csv(\"prep.csv\")\n",
    "dataset=pd.get_dummies(dataset,drop_first=True)"
   ]
  },
  {
   "cell_type": "code",
   "execution_count": 3,
   "id": "91e11175",
   "metadata": {},
   "outputs": [],
   "source": [
    "x_indep=dataset.drop('classification_yes',axis=1)\n",
    "y_dep=dataset['classification_yes']"
   ]
  },
  {
   "cell_type": "code",
   "execution_count": 8,
   "id": "6c8ec43e",
   "metadata": {},
   "outputs": [],
   "source": [
    "def split_preprocess_LDA(x_indep,y_dep):\n",
    "    from sklearn.model_selection import train_test_split\n",
    "    x_train,x_test,y_train,y_test=train_test_split(x_indep,y_dep,test_size=0.25,random_state=0)\n",
    "    \n",
    "    from sklearn.preprocessing import StandardScaler\n",
    "    sc=StandardScaler()\n",
    "    x_train=sc.fit_transform(x_train)\n",
    "    x_test=sc.transform(x_test)\n",
    "    \n",
    "    from sklearn.discriminant_analysis import LinearDiscriminantAnalysis as LDA\n",
    "    lda = LDA(n_components = 1)\n",
    "    x_train = lda.fit_transform(x_train, y_train)\n",
    "    x_test = lda.transform(x_test)\n",
    "    return x_train,x_test,y_train,y_test\n"
   ]
  },
  {
   "cell_type": "code",
   "execution_count": 9,
   "id": "4e2a7a62",
   "metadata": {},
   "outputs": [],
   "source": [
    "def cm_prediction(classifier,x_test,y_test):\n",
    "    y_pred=classifier.predict(x_test)\n",
    "    from sklearn.metrics import confusion_matrix,accuracy_score,classification_report\n",
    "    cm=confusion_matrix(y_test,y_pred)\n",
    "    acscore=accuracy_score(y_test,y_pred)\n",
    "    creport=classification_report(y_test,y_pred)\n",
    "    print(cm)\n",
    "    print(acscore)\n",
    "    print(creport)"
   ]
  },
  {
   "cell_type": "code",
   "execution_count": 10,
   "id": "57a77a2d",
   "metadata": {},
   "outputs": [],
   "source": [
    "def logistic(x_train,x_test,y_train,y_test):\n",
    "    from sklearn.linear_model import LogisticRegression\n",
    "    classifier=LogisticRegression(random_state=0)\n",
    "    classifier.fit(x_train,y_train)\n",
    "    \n",
    "    cm_prediction(classifier,x_test,y_test)\n",
    "    return classifier\n",
    "\n",
    "def svm_linear(x_train,x_test,y_train,y_test):\n",
    "    from sklearn.svm import SVC\n",
    "    classifier=SVC(kernel='linear', random_state=0)\n",
    "    classifier.fit(x_train,y_train)\n",
    "    \n",
    "    cm_prediction(classifier,x_test,y_test)\n",
    "    return classifier\n",
    "\n",
    "def svm_NL(x_train,x_test,y_train,y_test):\n",
    "    from sklearn.svm import SVC\n",
    "    classifier=SVC(kernel='rbf', random_state=0)\n",
    "    classifier.fit(x_train,y_train)\n",
    "    cm_prediction(classifier,x_test,y_test)\n",
    "    return classifier\n",
    "\n",
    "def Navie(x_train,x_test,y_train,y_test):\n",
    "    from sklearn.naive_bayes import GaussianNB\n",
    "    classifier=GaussianNB()\n",
    "    classifier.fit(x_train,y_train)\n",
    "    cm_prediction(classifier,x_test,y_test)\n",
    "    return classifier\n",
    "\n",
    "def knn(x_train,x_test,y_train,y_test):\n",
    "    from sklearn.neighbors import KNeighborsClassifier\n",
    "    classifier=KNeighborsClassifier(n_neighbors=5,metric='minkowski',p=2)\n",
    "    classifier.fit(x_train,y_train)\n",
    "    cm_prediction(classifier,x_test,y_test)\n",
    "    return classifier\n",
    "\n",
    "\n",
    "def decision(x_train,x_test,y_train,y_test):\n",
    "    from sklearn.tree import DecisionTreeClassifier\n",
    "    classifier=DecisionTreeClassifier(criterion='entropy',random_state=0)\n",
    "    classifier.fit(x_train,y_train)\n",
    "    cm_prediction(classifier,x_test,y_test)\n",
    "    return classifier\n",
    "\n",
    "def random(x_train,x_test,y_train,y_test):\n",
    "    from sklearn.ensemble import RandomForestClassifier\n",
    "    classifier=RandomForestClassifier(n_estimators=10,criterion='entropy',random_state=0)\n",
    "    classifier.fit(x_train,y_train)\n",
    "    cm_prediction(classifier,x_test,y_test)\n",
    "    return classifier"
   ]
  },
  {
   "cell_type": "code",
   "execution_count": 12,
   "id": "28201b1e",
   "metadata": {},
   "outputs": [
    {
     "name": "stdout",
     "output_type": "stream",
     "text": [
      "[[36  0]\n",
      " [ 4 60]]\n",
      "0.96\n",
      "              precision    recall  f1-score   support\n",
      "\n",
      "           0       0.90      1.00      0.95        36\n",
      "           1       1.00      0.94      0.97        64\n",
      "\n",
      "    accuracy                           0.96       100\n",
      "   macro avg       0.95      0.97      0.96       100\n",
      "weighted avg       0.96      0.96      0.96       100\n",
      "\n"
     ]
    }
   ],
   "source": [
    "x_train,x_test,y_train,y_test=split_preprocess_LDA(x_indep,y_dep)\n",
    "\n",
    "classifier=logistic(x_train,x_test,y_train,y_test)\n",
    "#classifier=svm_linear(x_train,x_test,y_train,y_test)\n",
    "#classifier=svm_NL(x_train,x_test,y_train,y_test)\n",
    "#classifier=Navie(x_train,x_test,y_train,y_test)\n",
    "#classifier=knn(x_train,x_test,y_train,y_test)\n",
    "#classifier=decision(x_train,x_test,y_train,y_test)\n",
    "#classifier=random(x_train,x_test,y_train,y_test)"
   ]
  },
  {
   "cell_type": "code",
   "execution_count": null,
   "id": "c36bfd00",
   "metadata": {},
   "outputs": [],
   "source": []
  }
 ],
 "metadata": {
  "kernelspec": {
   "display_name": "Python 3 (ipykernel)",
   "language": "python",
   "name": "python3"
  },
  "language_info": {
   "codemirror_mode": {
    "name": "ipython",
    "version": 3
   },
   "file_extension": ".py",
   "mimetype": "text/x-python",
   "name": "python",
   "nbconvert_exporter": "python",
   "pygments_lexer": "ipython3",
   "version": "3.7.1"
  }
 },
 "nbformat": 4,
 "nbformat_minor": 5
}
