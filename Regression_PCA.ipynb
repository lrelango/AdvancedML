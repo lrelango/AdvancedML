{
 "cells": [
  {
   "cell_type": "code",
   "execution_count": 1,
   "id": "6408533c",
   "metadata": {},
   "outputs": [],
   "source": [
    "import pandas as pd"
   ]
  },
  {
   "cell_type": "code",
   "execution_count": 2,
   "id": "23180cd7",
   "metadata": {},
   "outputs": [],
   "source": [
    "dataset=pd.read_csv(\"prep.csv\")\n",
    "dataset=pd.get_dummies(dataset,drop_first=True)"
   ]
  },
  {
   "cell_type": "code",
   "execution_count": 3,
   "id": "91e11175",
   "metadata": {},
   "outputs": [],
   "source": [
    "x_indep=dataset.drop('classification_yes',axis=1)\n",
    "y_dep=dataset['classification_yes']"
   ]
  },
  {
   "cell_type": "code",
   "execution_count": 23,
   "id": "6c8ec43e",
   "metadata": {},
   "outputs": [],
   "source": [
    "def split_scalar(x_indep,y_dep):\n",
    "    from sklearn.model_selection import train_test_split\n",
    "    x_train,x_test,y_train,y_test=train_test_split(x_indep,y_dep,test_size=0.25,random_state=0)\n",
    "\n",
    "    from sklearn.preprocessing import StandardScaler\n",
    "    sc=StandardScaler()\n",
    "    x_train=sc.fit_transform(x_train)\n",
    "    x_test=sc.transform(x_test)\n",
    "    \n",
    "    from sklearn.decomposition import PCA\n",
    "    pca=PCA(n_components=2)\n",
    "    x_train=pca.fit_transform(x_train)\n",
    "    x_test=pca.transform(x_test)\n",
    "    return x_train,x_test,y_train,y_test\n",
    "    \n",
    "def r2_prediction(regressor,x_test,y_test):\n",
    "    y_pred=regressor.predict(x_test)\n",
    "    from sklearn.metrics import r2_score\n",
    "    rscore=r2_score(y_test,y_pred)\n",
    "    print(f\"The r2 score for the regressor is {rscore}\") \n"
   ]
  },
  {
   "cell_type": "code",
   "execution_count": 24,
   "id": "57a77a2d",
   "metadata": {},
   "outputs": [],
   "source": [
    "def Linear(x_train,x_test,y_train,y_test):\n",
    "    from sklearn.linear_model import LinearRegression\n",
    "    regressor=LinearRegression()\n",
    "    regressor.fit(x_train,y_train)\n",
    "    return regressor\n",
    "\n",
    "def svm_linear(x_train,x_test,y_train,y_test):\n",
    "    from sklearn.svm import SVR\n",
    "    regressor=SVR(kernel='linear')\n",
    "    regressor.fit(x_train,y_train)\n",
    "    return regressor\n",
    "\n",
    "def svm_NL(x_train,x_test,y_train,y_test):\n",
    "    from sklearn.svm import SVR\n",
    "    regressor=SVR(kernel='rbf')\n",
    "    regressor.fit(x_train,y_train)\n",
    "    return regressor\n",
    "\n",
    "def DTR(x_train,x_test,y_train,y_test):\n",
    "    from sklearn.tree import DecisionTreeRegressor\n",
    "    regressor=DecisionTreeRegressor(criterion='squared_error', splitter='random',  max_features='log2')\n",
    "    regressor=regressor.fit(x_train,y_train)\n",
    "    return regressor\n",
    "\n",
    "def RFR(x_train,x_test,y_train,y_test):\n",
    "    from sklearn.ensemble import RandomForestRegressor\n",
    "    regressor=RandomForestRegressor(n_estimators=50,criterion='poisson', max_features=None)\n",
    "    regressor.fit(x_train,y_train)\n",
    "    return regressor\n"
   ]
  },
  {
   "cell_type": "code",
   "execution_count": 25,
   "id": "00dec001",
   "metadata": {},
   "outputs": [
    {
     "name": "stdout",
     "output_type": "stream",
     "text": [
      "The r2 score for the regressor is 0.9329615528690619\n"
     ]
    }
   ],
   "source": [
    "x_train,x_test,y_train,y_test=split_scalar(x_indep,y_dep)\n",
    "#regressor=Linear(x_train,x_test,y_train,y_test)\n",
    "#regressor=svm_linear(x_train,x_test,y_train,y_test)\n",
    "#regressor=svm_NL(x_train,x_test,y_train,y_test)\n",
    "#regressor=DTR(x_train,x_test,y_train,y_test)\n",
    "regressor=RFR(x_train,x_test,y_train,y_test)\n",
    "r2_prediction(regressor,x_test,y_test)"
   ]
  },
  {
   "cell_type": "code",
   "execution_count": null,
   "id": "ba142e62",
   "metadata": {},
   "outputs": [],
   "source": []
  }
 ],
 "metadata": {
  "kernelspec": {
   "display_name": "Python 3 (ipykernel)",
   "language": "python",
   "name": "python3"
  },
  "language_info": {
   "codemirror_mode": {
    "name": "ipython",
    "version": 3
   },
   "file_extension": ".py",
   "mimetype": "text/x-python",
   "name": "python",
   "nbconvert_exporter": "python",
   "pygments_lexer": "ipython3",
   "version": "3.7.1"
  }
 },
 "nbformat": 4,
 "nbformat_minor": 5
}
